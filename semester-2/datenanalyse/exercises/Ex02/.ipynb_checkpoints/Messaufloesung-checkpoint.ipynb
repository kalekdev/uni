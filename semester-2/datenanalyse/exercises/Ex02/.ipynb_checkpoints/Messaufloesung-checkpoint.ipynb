{
 "cells": [
  {
   "cell_type": "markdown",
   "id": "1393a68b",
   "metadata": {},
   "source": [
    "# Aufgabenblatt 2"
   ]
  },
  {
   "cell_type": "markdown",
   "id": "74ffb872",
   "metadata": {},
   "source": [
    "<p style=\"background-color:#f6f6f6;border-left:5px solid red;padding:0.6em;box-sizing:border-box;\">\n",
    "<strong>Lernziele:</strong><br/>\n",
    "    Diese Übung führt Sie an die digitale Natur von Messsignalen, sowie den Einfluss verschiedener Messgrössen heran.\n",
    "</p>\n",
    "\n",
    "<p style=\"background-color:#f6f6f6;border-left:5px solid blue;padding:0.6em;box-sizing:border-box;\">\n",
    "<strong>Wichtigste Funktionen für diese Übung:</strong><br/>\n",
    "    Dies sind die wichtigsten Funktionen, die Sie während dieser Übung benötigen:<br>\n",
    "    Die jeweilige Syntax beschreibt eine examplarische Verwendung. Im Allgemeinen haben die Funktionen weitere Argumente, die übergeben werden können. Der Funktionsname ist jeweils ein Link zur offiziellen Dokumentation, welche alle Argumente darlegt und die Funktion beschreibt. <br>\n",
    "    <b>Funktionen zur Datenanlyse </b><br> \n",
    "    <a href=\"https://numpy.org/doc/stable/reference/generated/numpy.loadtxt.html\">data = numpy.loadtxt(filepath, <em>optional arguments</em>)</a> Lädt die Daten in einem Dokument und schreibt die Daten in eine Variable <em>data</em><br>\n",
    "    <a href=\"https://numpy.org/doc/stable/reference/generated/numpy.sort.html\">sortedarray = numpy.sort(data)</a> Sortiert das Array <em>data</em>. Standardmässig wird das Array nach aufsteigendem Wert sortiert.<br>\n",
    "    <a href=\"https://numpy.org/doc/stable/reference/generated/numpy.diff.html\">res = numpy.diff(data)</a> Berechnet standardmässig die erste diskrete Differenz der Einträge des Arrays <em>data</em>. Der resultierende Array wird um einen Eintrag kürzer sein als der Ursprüngliche.<br>\n",
    "    <a href=\"https://numpy.org/doc/stable/reference/generated/numpy.min.html\">res = numpy.min(data)</a>Gibt den Minimalwert im Array <em>data</em> zurück.<br>\n",
    "    <a href=\"https://numpy.org/doc/stable/reference/generated/numpy.histogram.html\">hist, bin_edges = numpy.histogram(data, number_of_bins)</a> Sortiert die Daten <em>data</em> in <em>number_of_bins</em> gleichgrossen Bins. Zurückgegeben werden zwei Arrays, welche die Grenzen (<em>bin_edges</em>) sowie die Popultaion der Bins (<em>hist</em>) enthalten.<br>\n",
    "    <b>Funktionen zum Plotten: </b><br>\n",
    "    <a href=\"https://matplotlib.org/stable/api/_as_gen/matplotlib.pyplot.figure.html\">figure = matplotlib.pyplot.figure()</a> Erstellt eine neue Figur und gibt den Handle zu dieser zurück.<br>\n",
    "    <a href=\"https://matplotlib.org/stable/api/_as_gen/matplotlib.pyplot.subplot.html\">ax = matplotlib.pyplot.subplot(nrows, ncolumn, index)</a> Erstellt einen neuen Plot in der aktuellen Figur. Erlaubt es, mehrere Plots in einer Figur zu haben. Mittels der Argumente kann der <em>index</em>te Plot in einem Grid mit <em>nrows</em> Reihen und <em>ncolumns</em> Spalten erstellt werden.<br>\n",
    "    <a href=\"https://matplotlib.org/stable/api/_as_gen/matplotlib.pyplot.plot.html\">ax.plot(x, y)</a> Plottet die Daten x,y in einem Graphen.<br>\n",
    "    <a href=\"https://matplotlib.org/stable/api/_as_gen/matplotlib.axes.Axes.set_xlabel.html\">ax.set_xlabel(label)</a> Erstellt ein Label für die X-Achse des aktuellen Grafen.<br>\n",
    "    <a href=\"https://matplotlib.org/stable/api/_as_gen/matplotlib.axes.Axes.set_ylabel.html\">ax.set_ylabel(label)</a> Erstellt ein Label für die Y-Achse des aktuellen Grafen.<br>\n",
    "    <a href=\"https://matplotlib.org/stable/api/_as_gen/matplotlib.axes.Axes.set_title.html\">ax.set_title(title)</a> Erstellt einen Titel für den aktuellen Grafen.<br>\n",
    "    <a href=\"https://matplotlib.org/stable/api/_as_gen/matplotlib.axes.Axes.bar.html\">ax.bar(x, heights, width)</a> Erstellt ein Balkendiagramm mit den Balken an den Positionen x und den Höhen <em>heights</em>. Die Breite der Balken kann über den Parameter <em>width</em> angepasst werden.<br>\n",
    "</p>"
   ]
  },
  {
   "cell_type": "code",
   "execution_count": 1,
   "id": "14a82f25",
   "metadata": {},
   "outputs": [],
   "source": [
    "import numpy as np\n",
    "import matplotlib.pyplot as plt"
   ]
  },
  {
   "cell_type": "markdown",
   "id": "c5b639ab",
   "metadata": {},
   "source": [
    "# Aufgabe 1: Auflösung einer Messung"
   ]
  },
  {
   "cell_type": "markdown",
   "id": "220647e7",
   "metadata": {},
   "source": [
    "In dieser Übung schauen wir uns den Einfluss der Auflösung des Signalwerts einer Messung auf die Analyse an. Hierfür haben Sie vier Dateien mit Messdaten, die Sie im Ordner \"Aufgabe 1\" finden. Alle vier Messungen wurden am gleichen System durchgeführt, aber sie haben unterschiedliche Auflösungen."
   ]
  },
  {
   "cell_type": "markdown",
   "id": "a51828a8",
   "metadata": {},
   "source": [
    "## a)"
   ]
  },
  {
   "cell_type": "markdown",
   "id": "5d693c39",
   "metadata": {},
   "source": [
    "Lesen Sie die Messdaten ein und stellen Sie für jede Messung die gemessene Grösse als Funktion der Zeit dar.\n",
    "\n",
    "Tipp: Jupyter Notebooks unterstützen auch interaktive Plots. Sie können diese Funktion durch das Ausführen des folgenden Codes aktivieren."
   ]
  },
  {
   "cell_type": "code",
   "execution_count": 4,
   "id": "51956870",
   "metadata": {},
   "outputs": [],
   "source": [
    "%matplotlib notebook"
   ]
  },
  {
   "cell_type": "markdown",
   "id": "2ef20632",
   "metadata": {},
   "source": [
    "Um die interaktiven Plots wieder auszuschalten, verwenden Sie:"
   ]
  },
  {
   "cell_type": "code",
   "execution_count": 3,
   "id": "b839ad86",
   "metadata": {},
   "outputs": [],
   "source": [
    "%matplotlib inline"
   ]
  },
  {
   "cell_type": "code",
   "execution_count": 10,
   "id": "08da77cd",
   "metadata": {},
   "outputs": [
    {
     "name": "stdout",
     "output_type": "stream",
     "text": [
      "[  0.   542.29]\n",
      "[  0. 542.]\n",
      "[  0.   542.25]\n"
     ]
    }
   ],
   "source": [
    "# Ihr Code\n",
    "for i in range(3):\n",
    "    # comments='#' by default\n",
    "    data = np.loadtxt(f\"Aufgabe1/measurement_{i +1}.txt\", delimiter=',')\n",
    "    print(data[0])"
   ]
  },
  {
   "cell_type": "markdown",
   "id": "5727a2b0",
   "metadata": {},
   "source": [
    "## b)"
   ]
  },
  {
   "cell_type": "markdown",
   "id": "a689c63d",
   "metadata": {},
   "source": [
    "Bestimmen Sie zu jeder Messung die Auflösung in der Signalgrösse (hier Spannung). Nützliche Funktionen hierfür sind z.B. `np.diff`, `np.sort` und `np.min`."
   ]
  },
  {
   "cell_type": "code",
   "execution_count": null,
   "id": "8f22d711",
   "metadata": {},
   "outputs": [],
   "source": [
    "# Ihr Code"
   ]
  },
  {
   "cell_type": "markdown",
   "id": "bb748045",
   "metadata": {},
   "source": [
    "## **Hintergrund: Erstellen von Grafen**"
   ]
  },
  {
   "cell_type": "markdown",
   "id": "683f54a0",
   "metadata": {},
   "source": [
    "Einer der wichtigsten Schritte beim Verarbeiten und Verstehen von Daten ist die grafische Darstellung der Werte. Ein weit verbreitetes Package fürs plotten ist `matplotlib`, es beinhaltet zahlreiche Möglichkeiten, beliebig komplizierte Plots zu erstellen. Für die meisten Anwendungen genügt es jedoch, aus `matplotlib.pyplot` mit `subplots` eine Figur und die dazugehörigen Achsen zu erstellen, und dann mit `plot` die Werte darzustellen. Zu jedem Plot gehört die Achsenbeschriftung, die mit `ax.set_xlabel` und  `ax.set_ylabel` erstellt werden kann (dazu gehören auch immer die Einheiten der dargestellten Grössen). Um klarzumachen, was dargestellt ist, kann mit `ax.set_title` ein Titel erstellt werden, was insbesondere dann hilfreich ist, wenn es keinen erklärenden Text zum Plot gibt (z.B. hier im Notebook oder in einer Präsentation)."
   ]
  },
  {
   "cell_type": "code",
   "execution_count": null,
   "id": "ced52525",
   "metadata": {},
   "outputs": [],
   "source": [
    "import matplotlib.pyplot as plt\n",
    "t = np.linspace(0, 5, 100)\n",
    "y = 15 * t - 9.81 / 2 * t**2\n",
    "\n",
    "fig = plt.figure()\n",
    "ax = fig.add_subplot(1, 1, 1)\n",
    "ax.plot(t, y)\n",
    "ax.set_xlabel('t (s)')\n",
    "ax.set_ylabel('y (m)')\n",
    "ax.set_title('Wurfparabel')"
   ]
  },
  {
   "cell_type": "markdown",
   "id": "82618990",
   "metadata": {},
   "source": [
    "## c)"
   ]
  },
  {
   "cell_type": "markdown",
   "id": "bf184732",
   "metadata": {},
   "source": [
    "Plotten Sie nochmal die Daten, und beschriften Sie die Plots mit der zugehörigen Signalauflösung. Da die Punkte auf der x-Achse sehr dicht beieinander liegen, lässt sich nicht viel erkennen. Schauen Sie sich deswegen kleinere Bereiche auf der x-Achse an, z.B. 10 Sekunden, 5 Sekunden, 1 Sekunde, 0.1 Sekunden... Können Sie eine Struktur erkennen? Wie wirkt sich die Auflösung aus?"
   ]
  },
  {
   "cell_type": "code",
   "execution_count": null,
   "id": "76424857",
   "metadata": {},
   "outputs": [],
   "source": [
    "# Ihr Code"
   ]
  },
  {
   "cell_type": "markdown",
   "id": "cccaec0e",
   "metadata": {},
   "source": [
    "## d)"
   ]
  },
  {
   "cell_type": "markdown",
   "id": "0c7a7ea2",
   "metadata": {},
   "source": [
    "Erstellen Sie ein Histogramm für jede Messung und plotten Sie es. Um das Histogramm zu berechnen, können Sie `np.histogram()`, und um es in der gewohnten Balken-Form zu plotten `ax.bar()` verwenden. Die Grösse der Bins hat einen grossen Einfluss auf das Histogramm. Wählen Sie verschiedene Bingrössen aus, die für kleine oder grosse Signalauflösungen optimiert sind. Was passiert, wenn Sie die Bingrösse kleiner als die Auflösung wählen?\n",
    "\n",
    "Die Syntax der Funktionen finden Sie wieder mit der Hilfe Funktion: `np.histogram?` und `ax.bar?`. Alternativ können Sie auf die Hyperlinks am Anfang des Übungsblattes klicken, um zur Online-Dokumentation zu gelangen.\n",
    "\n",
    "Um den Zusammenhang zwischen Signalauflösung und Bingrösse zu veranschaulichen, können Sie immer alle vier Histogramme mit derselben Bingrösse plotten, und dann verschiedene Werte für die Bingrösse ausprobieren."
   ]
  },
  {
   "cell_type": "code",
   "execution_count": null,
   "id": "1bf7a655",
   "metadata": {},
   "outputs": [],
   "source": [
    "# Ihr Code"
   ]
  },
  {
   "cell_type": "markdown",
   "id": "720892c3",
   "metadata": {},
   "source": [
    "## e)"
   ]
  },
  {
   "cell_type": "markdown",
   "id": "96ad8e69",
   "metadata": {},
   "source": [
    "Welche Auflösung würden Sie für diese Messung wählen? Wie hängt die benötigte Auflösung mit den charakteristischen Grössen der Verteilung der Messwerte (z.B. Streuung) zusammen?"
   ]
  },
  {
   "cell_type": "code",
   "execution_count": null,
   "id": "aff68dc3",
   "metadata": {},
   "outputs": [],
   "source": []
  },
  {
   "cell_type": "markdown",
   "id": "ef6578bf",
   "metadata": {},
   "source": [
    "# Aufgabe 2: Oszillierendes Signal und Samplingrate"
   ]
  },
  {
   "cell_type": "markdown",
   "id": "8c3c860f",
   "metadata": {},
   "source": [
    "Nun schauen wir uns den Einfluss der Samplingrate, d.h. der zeitlichen Auflösung, auf die Messung von oszillierenden Signalen an. Sie finden die Datensätze zu dieser Aufgabe im Ordner \"Aufgabe 2\"."
   ]
  },
  {
   "cell_type": "markdown",
   "id": "8dda1436",
   "metadata": {},
   "source": [
    "## a)"
   ]
  },
  {
   "cell_type": "markdown",
   "id": "6b1370d4",
   "metadata": {},
   "source": [
    "Lesen Sie zuerst den Datensatz 'osc_data_1.txt' ein und bestimmen Sie die Samplingrate. Plotten Sie das Signal als Funktion der Zeit. Verwenden Sie im Plot Marker (z.B. Kreuze oder Punkte), um die Datenpunkte zu markieren."
   ]
  },
  {
   "cell_type": "code",
   "execution_count": null,
   "id": "9beca195",
   "metadata": {},
   "outputs": [],
   "source": [
    "# Ihr Code"
   ]
  },
  {
   "cell_type": "markdown",
   "id": "0e8679a8",
   "metadata": {},
   "source": [
    "## b)"
   ]
  },
  {
   "cell_type": "markdown",
   "id": "60d6b325",
   "metadata": {},
   "source": [
    "Lesen Sie die Oszillationsfrequenz des Signals aus Ihrem Plot ab."
   ]
  },
  {
   "cell_type": "code",
   "execution_count": null,
   "id": "2fc417ba",
   "metadata": {},
   "outputs": [],
   "source": []
  },
  {
   "cell_type": "markdown",
   "id": "3310b71b",
   "metadata": {},
   "source": [
    "## c)"
   ]
  },
  {
   "cell_type": "markdown",
   "id": "b0dc3a95",
   "metadata": {},
   "source": [
    "Lesen Sie nun die Datei 'osc_data_2.txt' ein, bestimmen Sie die Samplingrate, plotten Sie das Signal, und bestimmen Sie die Frequenz."
   ]
  },
  {
   "cell_type": "code",
   "execution_count": null,
   "id": "0f9e4e95",
   "metadata": {},
   "outputs": [],
   "source": [
    "# Ihr Code"
   ]
  },
  {
   "cell_type": "markdown",
   "id": "bcf8b8bd",
   "metadata": {},
   "source": [
    "## d)"
   ]
  },
  {
   "cell_type": "markdown",
   "id": "f222f7f5",
   "metadata": {},
   "source": [
    "Plotten Sie beide Datensätze im selbem Plot. Was stellen Sie fest?"
   ]
  },
  {
   "cell_type": "code",
   "execution_count": null,
   "id": "b4901d11",
   "metadata": {},
   "outputs": [],
   "source": [
    "# Ihr Code"
   ]
  },
  {
   "cell_type": "markdown",
   "id": "6e8a871a",
   "metadata": {},
   "source": [
    "## Freiwillige Zusatzaufgabe: Frequenz automatisch bestimmen"
   ]
  },
  {
   "cell_type": "markdown",
   "id": "91f29804",
   "metadata": {},
   "source": [
    "In Aufgaben b) und c) haben Sie die ungefähre Frequenz von Auge aus dem Plot abgelesen. Überlegen Sie sich, wie Sie die Frequenz programmatisch aus dem Signal bestimmen könnten, und versuchen Sie Ihren Algorithmus zu implementieren.\n",
    "\n",
    "Da wir erst später in der Vorlesung genauer auf die Analyse von oszillierenden Signalen zu sprechen kommen, brauchen Sie sich keine Gedanken zu machen, wenn Sie diese Aufgabe nicht bearbeiten möchten."
   ]
  },
  {
   "cell_type": "code",
   "execution_count": null,
   "id": "fe80094e",
   "metadata": {},
   "outputs": [],
   "source": [
    "# Ihr Code"
   ]
  }
 ],
 "metadata": {
  "kernelspec": {
   "display_name": "Python 3 (ipykernel)",
   "language": "python",
   "name": "python3"
  },
  "language_info": {
   "codemirror_mode": {
    "name": "ipython",
    "version": 3
   },
   "file_extension": ".py",
   "mimetype": "text/x-python",
   "name": "python",
   "nbconvert_exporter": "python",
   "pygments_lexer": "ipython3",
   "version": "3.13.2"
  },
  "toc": {
   "base_numbering": 1,
   "nav_menu": {},
   "number_sections": false,
   "sideBar": true,
   "skip_h1_title": false,
   "title_cell": "Table of Contents",
   "title_sidebar": "Contents",
   "toc_cell": false,
   "toc_position": {
    "height": "calc(100% - 180px)",
    "left": "10px",
    "top": "150px",
    "width": "384px"
   },
   "toc_section_display": true,
   "toc_window_display": true
  },
  "varInspector": {
   "cols": {
    "lenName": 16,
    "lenType": 16,
    "lenVar": 40
   },
   "kernels_config": {
    "python": {
     "delete_cmd_postfix": "",
     "delete_cmd_prefix": "del ",
     "library": "var_list.py",
     "varRefreshCmd": "print(var_dic_list())"
    },
    "r": {
     "delete_cmd_postfix": ") ",
     "delete_cmd_prefix": "rm(",
     "library": "var_list.r",
     "varRefreshCmd": "cat(var_dic_list()) "
    }
   },
   "types_to_exclude": [
    "module",
    "function",
    "builtin_function_or_method",
    "instance",
    "_Feature"
   ],
   "window_display": false
  }
 },
 "nbformat": 4,
 "nbformat_minor": 5
}
