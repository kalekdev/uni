{
 "cells": [
  {
   "cell_type": "markdown",
   "id": "d9f83dc3",
   "metadata": {},
   "source": [
    "# Aufgabenblatt 3"
   ]
  },
  {
   "cell_type": "markdown",
   "id": "f30df3a1",
   "metadata": {},
   "source": [
    "<p style=\"background-color:#f6f6f6;border-left:5px solid red;padding:0.6em;box-sizing:border-box;\">\n",
    "<strong>Lernziele:</strong><br/>\n",
    "    Diese Übung zeigt ihnen die Syntax für das Erstellen von Funktionen in Python. Ausserdem führen wir die ersten statistischen Berechnungen durch und lernen, diese in sinnvollen Plots darzustellen.\n",
    "</p>\n",
    "\n",
    "<p style=\"background-color:#f6f6f6;border-left:5px solid blue;padding:0.6em;box-sizing:border-box;\">\n",
    "<strong>Wichtigste neue Funktionen für diese Übung:</strong><br/>\n",
    "    Dies sind die wichtigsten Funktionen, die Sie während dieser Übung benötigen:<br>\n",
    "    Die jeweilige Syntax beschreibt eine examplarische Verwendung. Im Allgemeinen haben die Funktionen weitere Argumente, die übergeben werden können. Der Funktionsname ist jeweils ein Link zur offiziellen Dokumentation, welche alle Argumente darlegt und ihre Funktion beschreibt. <br>\n",
    "    <b>Funktionen zur statistischen Analyse: </b><br>\n",
    "    <a href=\"https://numpy.org/doc/stable/reference/generated/numpy.sqrt.html\">numpy.sqrt(data)</a> Berechnet die Wurzel eines Skalars oder elementweise eines Arrays.<br>\n",
    "    <a href=\"https://numpy.org/doc/stable/reference/generated/numpy.mean.html\">numpy.mean(data)</a> Berechnet den Mittelwert aller Werte im Array <em>data</em>. <br>\n",
    "    <a href=\"https://numpy.org/doc/stable/reference/generated/numpy.std.html\">numpy.std(data)</a> Berechnet die Standardabweichung aller Werte im Array <em>data</em>. <br>\n",
    "    <a href=\"https://numpy.org/doc/stable/reference/random/generated/numpy.random.rand.html\">numpy.random.rand(d0, d1, ...)</a> Erstellt ein Array der Grösse [d0 ,d1, ...] mit Zufallszahlen, gezogen aus einer uniformen Verteilung zwischen [0,1). Beispiel: Erstellen eines 1000-Elemente-langen Zufallsvektor: vec = np.random.rand(1000)<br>\n",
    "    <a href=\"https://numpy.org/doc/stable/reference/generated/numpy.histogram.html\">hist, bin_edges = numpy.histogram(data, number_of_bins)</a> Sortiert die Daten <em>data</em> in <em>number_of_bins</em> gleichgrossen Bins. Zurückgegeben werden zwei Arrays, welche die Grenzen (<em>bin_edges</em>) sowie die Popultaion der Bins (<em>hist</em>) enthalten.<br>\n",
    "    <b>Funktionen zum Plotten: </b><br>\n",
    "    <a href=\"https://matplotlib.org/stable/api/_as_gen/matplotlib.pyplot.figure.html\">figure = matplotlib.pyplot.figure()</a> Erstellt eine neue Figur und gibt den Handle zu dieser zurück.<br>\n",
    "    <a href=\"https://matplotlib.org/stable/api/_as_gen/matplotlib.pyplot.subplot.html\">ax = matplotlib.pyplot.subplot(nrows, ncolumn, index)</a> Erstellt einen neuen Plot in der aktuellen Figur. Erlaubt es, mehrere Plots in einer Figur zu haben. Mittels der Argumente kann der <em>index</em>te Plot in einem Grid mit <em>nrows</em> Reihen und <em>ncolumns</em> Spalten erstellt werden.<br>\n",
    "    <a href=\"https://matplotlib.org/stable/api/_as_gen/matplotlib.pyplot.plot.html\">ax.plot(x, y)</a> Plottet die Daten x,y in einem Graphen.<br>\n",
    "    <a href=\"https://matplotlib.org/stable/api/_as_gen/matplotlib.axes.Axes.set_xlabel.html\">ax.set_xlabel(label)</a> Erstellt ein Label für die X-Achse des aktuellen Grafen.<br>\n",
    "    <a href=\"https://matplotlib.org/stable/api/_as_gen/matplotlib.axes.Axes.set_ylabel.html\">ax.set_ylabel(label)</a> Erstellt ein Label für die Y-Achse des aktuellen Grafen.<br>\n",
    "    <a href=\"https://matplotlib.org/stable/api/_as_gen/matplotlib.axes.Axes.set_title.html\">ax.set_title(title)</a> Erstellt einen Titel für den aktuellen Grafen.<br>\n",
    "    <a href=\"https://matplotlib.org/stable/api/_as_gen/matplotlib.axes.Axes.bar.html\">ax.bar(x, heights, width)</a> Erstellt ein Balkendiagramm mit den Balken an den Positionen x und den Höhen <em>heights</em>. Die Breite der Balken kann über den Parameter <em>width</em> angepasst werden.<br>\n",
    "</p>"
   ]
  },
  {
   "cell_type": "markdown",
   "id": "0fd12ed3",
   "metadata": {},
   "source": [
    "# Aufgabe 1 - Mittelwert und Standardabweichung\n",
    "## **Hintergrund: Python Funktionen**"
   ]
  },
  {
   "cell_type": "markdown",
   "id": "d3c541b2",
   "metadata": {},
   "source": [
    "Funktionen sind ein fundamentales Tool beim Schreiben von Code. Im Folgenden wollen wir eine kleine Einführung zu Funktionen in Python geben. Sie ist gezielt einfach und kurz gehalten, beinhaltet aber alles, was Sie für den Start benötigen.  Die Definition einer Python-Funktion beginnt mit `def`, gefolgt vom Funktionsnamen und, falls benötigt, den zu übergebenden Argumenten in der Klammer. Analog zu for-Schleifen ist der zur Funktion gehörende Code dadurch definiert, dass er eingerückt ist:\n",
    "\n",
    "```\n",
    "def function_name(parameter1, parameter2, default_argument=standard_value):\n",
    "\t\"\"\"Docstring\"\"\"\n",
    "    # some code\n",
    "\treturn return_value1, return_value2\n",
    "```\n",
    "    \n",
    "Dabei können `parameter1`, `parameter2` und `default_argument` beliebige Datentypen sein, z.B. `int`, `np.ndarray`, `str`, etc. Der Unterschied zwischen `default_argument` und `parameter1` oder `parameter2` ist, dass Default Arguments einen Standardwert haben. In der Funktionsdefinition müssen Default Arguments immer **nach** Non-Default Arguments geschrieben werden. Das `return` statement ist nur notwendig, wenn man einen Wert zurückgeben will, und kann ansonsten weggelassen werden. Es können eine oder mehrere mit Kommas separierte Variablen ausgegeben werden, und sie können beliebige Datentypen annehmen.\n",
    " \n",
    "Beim Aufrufen oder Ausführen der Funktion können die Parameter entweder positional oder mit Hilfe von Keywords übergeben werden. Bei der positionalen Übergabe werden die Übergabeparameter in der Reihenfolge, in der die Parameter in der Funktionsdefinition geschrieben sind, übergeben. Bei einem Aufruf `function_name(1,2)` beispielsweise hat also `parameter1` den Wert `1`, `parameter2` den Wert `2` und `default_argument` den Standardwert `standard_value`. Bei der Übergabe mit Keywords kann man die Reihenfolge der Parameter im Aufruf frei wählen, also z. B. `function_name(parameter2='hello!', default_argument=5, parameter1=3.141)`. Man kann die beiden Übergabemethoden auch in einem Aufruf mischen, dann muss man jedoch zuerst alle positionalen Parameter (in der richtigen Reihenfolge) und dann die Keyword Parameter übergeben.\n",
    "\n",
    "Im Folgenden sind einige einfache Funktionen aufgeführt, die die Funktionsweise illustrieren sollten.\n"
   ]
  },
  {
   "cell_type": "code",
   "execution_count": 3,
   "id": "386cc701",
   "metadata": {},
   "outputs": [
    {
     "name": "stdout",
     "output_type": "stream",
     "text": [
      "Always the same.\n",
      "Prints: This\n",
      "Prints: Or that\n",
      "10\n",
      "[0. 3. 6.]\n"
     ]
    }
   ],
   "source": [
    "import numpy as np\n",
    "\n",
    "def simple_print():\n",
    "    print('Always the same.')\n",
    "\n",
    "def print_input(text):\n",
    "    print('Prints: {:s}'.format(text))\n",
    "\n",
    "def linear_function(x, a):\n",
    "    y = x * a\n",
    "    return y \n",
    "\n",
    "# Die erste Funktion braucht kein Argument:\n",
    "simple_print()\n",
    "\n",
    "# Die zweite Funktion verwended das Argument:\n",
    "print_input('This')\n",
    "text = 'Or that'\n",
    "print_input(text)\n",
    "\n",
    "# Die dritte Funktion gibt \n",
    "x = 5\n",
    "y = linear_function(x, 2)\n",
    "print(y)\n",
    "x = np.linspace(0, 3, 3)\n",
    "y = linear_function(x, 2)\n",
    "print(y)"
   ]
  },
  {
   "cell_type": "code",
   "execution_count": 2,
   "id": "048f6b62",
   "metadata": {},
   "outputs": [
    {
     "name": "stdout",
     "output_type": "stream",
     "text": [
      "Param1: 1; Param2: 2, Param3: 3, Param4: 4\n",
      "Param1: 2; Param2: 1, Param3: 3, Param4: 4\n",
      "Param1: 1; Param2: 2, Param3: 3, Param4: 4\n",
      "Param1: 1; Param2: 2, Param3: 3, Param4: 8\n",
      "Param1: 1; Param2: 2, Param3: 3, Param4: 4\n"
     ]
    }
   ],
   "source": [
    "def print_param(param1, param2, param3=3, param4=4):\n",
    "    print('Param1: {:d}; Param2: {:d}, Param3: {:d}, Param4: {:d}'.format(param1, param2, param3, param4))\n",
    "\n",
    "# Wir können die Standardwerte für die Default Argumente benutzen:\n",
    "print_param(1, 2)\n",
    "# Die Reihenfolge der Parameter ist entscheidend\n",
    "print_param(2, 1)\n",
    "# Wir können Default Argumente positional übergeben\n",
    "print_param(1, 2, 3, 4)\n",
    "# Oder als Keyword\n",
    "print_param(1, 2, param4=8)\n",
    "# Oder wir können Non-Default Parameter als Keyword übergeben\n",
    "print_param(param2=2, param1=1)"
   ]
  },
  {
   "cell_type": "markdown",
   "id": "29a5fa12",
   "metadata": {},
   "source": [
    "Eine Besonderheit von Python-Funktionen ist, dass sie auch auf Variablen ausserhalb der Funktionsdefinition zugreifen können. Dies kann ein verlockend einfacher Weg sein, Variablen an eine Funktion zu übergeben. Es ist aber ratsam, die benötigten Variablen über die Funktionsdefinition zu übergeben. Besonders bei verschachtelten Codes kann es schnell vorkommen, dass eine Funktion nicht mehr macht was sie soll, weil eine Variable ausserhalb der Funktionsdefinition geändert wurde."
   ]
  },
  {
   "cell_type": "code",
   "execution_count": 3,
   "id": "6cb563e3",
   "metadata": {},
   "outputs": [
    {
     "name": "stdout",
     "output_type": "stream",
     "text": [
      "5\n",
      "4\n"
     ]
    }
   ],
   "source": [
    "a = 5 \n",
    "def print_a():\n",
    "    print(a)\n",
    "    \n",
    "print_a()\n",
    "a= 4\n",
    "print_a()"
   ]
  },
  {
   "cell_type": "markdown",
   "id": "1acd7ee8",
   "metadata": {},
   "source": [
    "## **Aufgabe 1: Mittelwert und Standardabweichung**"
   ]
  },
  {
   "cell_type": "markdown",
   "id": "9e7355c3",
   "metadata": {},
   "source": [
    "a.) Schreiben Sie selbst eine Funktion, die den Mittelwert und die Standardabweichung von einem Array berechnet. Nutzen Sie dafür keine importierten Packages ausser `np.sqrt()`, sondern ausschliesslich die built-in Funktionen und Methoden wie `for`, `len()`, etc."
   ]
  },
  {
   "cell_type": "code",
   "execution_count": 15,
   "id": "463cefc2",
   "metadata": {},
   "outputs": [],
   "source": [
    "# Ihr Code\n",
    "def mean(data):\n",
    "    return sum(data) / len(data)\n",
    "\n",
    "def sd(data):\n",
    "    m = mean(data)\n",
    "    return np.sqrt(sum((data - m)**2) / (len(data) - 1))"
   ]
  },
  {
   "cell_type": "markdown",
   "id": "ae40b617",
   "metadata": {},
   "source": [
    "b.) Überprüfen Sie nun die selbstgeschriebenen Funktionen mit den numpy Funktionen `np.mean()` und `np.std()`, indem Sie den Mittelwert und die Standardabweichung  von zufällig generierten Werten berechnen. Benutzen Sie dazu die Funktion `np.random.rand()`. Hilfe zu den Funktion finden Sie in der Dokumentation mit `np.random.rand?`, `np.mean?` und  `np.std?`."
   ]
  },
  {
   "cell_type": "code",
   "execution_count": 18,
   "id": "b3bf5f11",
   "metadata": {},
   "outputs": [
    {
     "name": "stdout",
     "output_type": "stream",
     "text": [
      "NP mean: 0.513856601589757, my mean: 0.513856601589757\n",
      "NP sd: 0.316766591168044, my sd: 0.3249956652022215\n"
     ]
    }
   ],
   "source": [
    "# Ihr Code\n",
    "test = np.random.rand(20)\n",
    "print(f\"NP mean: {np.mean(test)}, my mean: {mean(test)}\")\n",
    "print(f\"NP sd: {np.std(test)}, my sd: {sd(test)}\")"
   ]
  },
  {
   "cell_type": "markdown",
   "id": "6e6025f5",
   "metadata": {},
   "source": [
    "## **Hintergrund (Wiederholung): Erstellen von Grafen**"
   ]
  },
  {
   "cell_type": "markdown",
   "id": "5beefb8d",
   "metadata": {},
   "source": [
    "Eine der wichtigsten Schritte beim Verarbeiten und Verstehen von Daten ist die grafische Darstellung der Werte. Ein weit verbreitetes Package fürs plotten ist `matplotlib`, es beinhaltet zahlreiche Möglichkeiten beliebig komplizierte Plots zu erstellen. Für die meisten Anwendungen genügt es jedoch aus `matplotlib.pyplot` mit `subplots` eine Figur und die dazugehörigen Achsen zu erstellen, und dann mit `plot` die Werte darzustellen. Zu jedem Plot gehört die Achsenbeschriftung, die mit `ax.set_xlabel` und  `ax.set_ylabel` erstellt werden kann (dazu gehören auch immer die Einheiten der dargestellten Grössen). Um klarzumachen, was dargestellt ist, kann mit `ax.set_title` ein Titel erstellt werden, was insbesondere dann hilfreich ist, wenn es keinen erklärenden Text zum Plot gibt (z.B. hier im Notebook oder in einer Präsentation)."
   ]
  },
  {
   "cell_type": "code",
   "execution_count": 2,
   "id": "4e1d6530",
   "metadata": {},
   "outputs": [
    {
     "ename": "NameError",
     "evalue": "name 'np' is not defined",
     "output_type": "error",
     "traceback": [
      "\u001b[0;31m---------------------------------------------------------------------------\u001b[0m",
      "\u001b[0;31mNameError\u001b[0m                                 Traceback (most recent call last)",
      "Cell \u001b[0;32mIn[2], line 2\u001b[0m\n\u001b[1;32m      1\u001b[0m \u001b[38;5;28;01mimport\u001b[39;00m \u001b[38;5;21;01mmatplotlib\u001b[39;00m\u001b[38;5;21;01m.\u001b[39;00m\u001b[38;5;21;01mpyplot\u001b[39;00m \u001b[38;5;28;01mas\u001b[39;00m \u001b[38;5;21;01mplt\u001b[39;00m\n\u001b[0;32m----> 2\u001b[0m t \u001b[38;5;241m=\u001b[39m \u001b[43mnp\u001b[49m\u001b[38;5;241m.\u001b[39mlinspace(\u001b[38;5;241m0\u001b[39m, \u001b[38;5;241m5\u001b[39m, \u001b[38;5;241m100\u001b[39m)\n\u001b[1;32m      3\u001b[0m y \u001b[38;5;241m=\u001b[39m \u001b[38;5;241m15\u001b[39m \u001b[38;5;241m*\u001b[39m t \u001b[38;5;241m-\u001b[39m \u001b[38;5;241m9.81\u001b[39m \u001b[38;5;241m/\u001b[39m \u001b[38;5;241m2\u001b[39m \u001b[38;5;241m*\u001b[39m t\u001b[38;5;241m*\u001b[39m\u001b[38;5;241m*\u001b[39m\u001b[38;5;241m2\u001b[39m\n\u001b[1;32m      5\u001b[0m fig \u001b[38;5;241m=\u001b[39m plt\u001b[38;5;241m.\u001b[39mfigure()\n",
      "\u001b[0;31mNameError\u001b[0m: name 'np' is not defined"
     ]
    }
   ],
   "source": [
    "import matplotlib.pyplot as plt\n",
    "t = np.linspace(0, 5, 100)\n",
    "y = 15 * t - 9.81 / 2 * t**2\n",
    "\n",
    "fig = plt.figure()\n",
    "ax = fig.add_subplot(1, 1, 1)\n",
    "ax.plot(t, y)\n",
    "ax.set_xlabel('Zeit (s)')\n",
    "ax.set_ylabel('Höhe (m)')\n",
    "ax.set_title('Wurfparabel')"
   ]
  },
  {
   "cell_type": "markdown",
   "id": "a19f83d5",
   "metadata": {},
   "source": [
    "## **Aufgabe 2: Histogramm und Rauschen**"
   ]
  },
  {
   "cell_type": "markdown",
   "id": "cd1d0c26",
   "metadata": {},
   "source": [
    "a.) Wie bereits in der Vorlesung gezeigt wurde, wollen wir hier das Rauschen in einer Messung genauer anschauen. Laden Sie dazu als erstes den Datensatz `ExampleData.txt`. Der Datensatz beinhaltet eine zeitabhängige Spannung mit den Spalten: $t$, $V$. Plotten Sie die Zeitabhängigkeit der Spannung.\n"
   ]
  },
  {
   "cell_type": "code",
   "execution_count": 8,
   "id": "c78540fa",
   "metadata": {},
   "outputs": [
    {
     "name": "stdout",
     "output_type": "stream",
     "text": [
      "[[0.00000000e+00 5.00025001e-04 1.00005000e-03 ... 9.99899995e+00\n",
      "  9.99949997e+00 1.00000000e+01]\n",
      " [3.47159481e+01 4.42736065e+01 4.53589403e+01 ... 5.19468338e+01\n",
      "  5.30406480e+01 3.38082184e+01]]\n"
     ]
    }
   ],
   "source": [
    "# Ihr Code\n",
    "data = np.loadtxt(\"ExampleData.txt\", delimiter=',')\n",
    "print(data)"
   ]
  },
  {
   "cell_type": "markdown",
   "id": "2219b340",
   "metadata": {},
   "source": [
    "b.) Berechnen Sie Mittelwert und Standardabweichung der Spannung."
   ]
  },
  {
   "cell_type": "code",
   "execution_count": 20,
   "id": "866b157b",
   "metadata": {},
   "outputs": [
    {
     "name": "stdout",
     "output_type": "stream",
     "text": [
      "42.01908261525253\n",
      "7.992019950753861\n"
     ]
    }
   ],
   "source": [
    "# Ihr Code\n",
    "print(np.mean(data[1]))\n",
    "print(np.std(data[1]))"
   ]
  },
  {
   "cell_type": "markdown",
   "id": "7ae2a938",
   "metadata": {},
   "source": [
    "c.) Plotten Sie das Histogramm der Spannung. Um das Histogramm zu berechnen, können Sie `np.histogram()`, und um es in der gewohnten Balken-Form zu plotten `ax.bar()` verwenden. Die Grösse der Bins hat einen grossen Einfluss auf das Histogramm. Testen Sie verschiedene Grössen aus! Was sehen Sie?\n",
    "\n",
    "Die Syntax der Funktionen finden Sie wieder mit der Hilfe Funktionen: `np.histogram?` und `ax.bar?`.\n",
    "\n",
    "Beachten Sie, dass die Breite der Balken im Plot kleiner als die Bingrösse gewählt werden sollte."
   ]
  },
  {
   "cell_type": "code",
   "execution_count": 23,
   "id": "6b1b894f",
   "metadata": {},
   "outputs": [
    {
     "data": {
      "text/plain": [
       "<matplotlib.lines.Line2D at 0x7f4369550f50>"
      ]
     },
     "execution_count": 23,
     "metadata": {},
     "output_type": "execute_result"
    },
    {
     "data": {
      "image/png": "[encoded data removed]",
      "text/plain": [
       "<Figure size 640x480 with 1 Axes>"
      ]
     },
     "metadata": {},
     "output_type": "display_data"
    }
   ],
   "source": [
    "# Ihr Code\n",
    "# hist, edges = np.histogram(data[1], bins=50)\n",
    "\n",
    "fig = plt.figure()\n",
    "ax = fig.add_subplot(1, 1, 1)\n",
    "ax.hist(data[1], bins=50)\n",
    "ax.set_xlabel('Voltage (V)')\n",
    "ax.set_ylabel('PD')\n",
    "ax.set_title('Measurements')\n",
    "\n",
    "ax.axvline(np.mean(data[1]))\n",
    "ax.axvline(np.mean(data[1]) + np.std(data[1]))\n",
    "ax.axvline(np.mean(data[1]) - np.std(data[1]))"
   ]
  },
  {
   "cell_type": "markdown",
   "id": "7b95c38b",
   "metadata": {},
   "source": [
    "d.) Zuletzt plotten Sie nochmals das Histogramm mit einer sinnvollen Bin-Grösse, und zeichnen Sie den Mittelwert sowie die Standardabweichung ein. Hierzu können Sie die Funktion `ax.axvline` des Achsenobjekts verwenden.\n"
   ]
  },
  {
   "cell_type": "code",
   "execution_count": null,
   "id": "96d70ac4",
   "metadata": {},
   "outputs": [],
   "source": [
    "# Ihr Code"
   ]
  },
  {
   "cell_type": "markdown",
   "id": "bf76c6a3",
   "metadata": {},
   "source": [
    "## **Zusatzaufgabe: Zentraler Grenzwertsatz**"
   ]
  },
  {
   "cell_type": "markdown",
   "id": "47926b1d",
   "metadata": {},
   "source": [
    "Wie in der Vorlesung gezeigt wurde, ergibt eine additive Überlagerung unabhängiger Zufallseffekte im Gesamten zumindest Näherungsweise eine Normalverteilung. In der Vorlesung wurde dies anhand von Würfeln gezeigt, hier versuchen wir das Ergebnis mit (virtuellen) Münzen zu reproduzieren. Hierzu weisen wir Kopf und Zahl einfach zwei Zahlenwerte zu, 0 und 1. \n",
    "\n",
    "a) Generieren Sie als erstes die Zufallswerte für den Münzwurf. Dazu eignet sich z.B. `np.random.randint()`. Werfen Sie dafür gleichzeitig N Münzen und schauen Sie sich das Histogramm der Ergebnisse an. Wählen Sie dabei N gross genug, um zu überprüfen ob beide möglichen Werte gleich oft vorkommen."
   ]
  },
  {
   "cell_type": "code",
   "execution_count": 47,
   "id": "3f60c9d9",
   "metadata": {},
   "outputs": [
    {
     "data": {
      "text/plain": [
       "(array([  6.,  26.,  57.,  72., 101., 104.,  64.,  40.,  26.,   4.]),\n",
       " array([37. , 39.7, 42.4, 45.1, 47.8, 50.5, 53.2, 55.9, 58.6, 61.3, 64. ]),\n",
       " <BarContainer object of 10 artists>)"
      ]
     },
     "execution_count": 47,
     "metadata": {},
     "output_type": "execute_result"
    },
    {
     "data": {
      "image/png": "[encoded data removed]",
      "text/plain": [
       "<Figure size 640x480 with 1 Axes>"
      ]
     },
     "metadata": {},
     "output_type": "display_data"
    }
   ],
   "source": [
    "# Ihr Code\n",
    "sums = []\n",
    "for i in range(500):\n",
    "    sums.append(sum(np.random.randint(0, 2, 100)))\n",
    "\n",
    "fig = plt.figure()\n",
    "ax = fig.add_subplot(1, 1, 1)\n",
    "ax.hist(sums, bins=10)"
   ]
  },
  {
   "cell_type": "markdown",
   "id": "da5032c8",
   "metadata": {},
   "source": [
    "b) Wiederholen Sie als nächstes dieses Experiment M-mal, und summieren Sie für jede der N Münzen die M Ergebnisse auf. Plotten Sie dann das Histogramm der Summen und die dazugehörige (skalierte) Normalverteilung\n",
    "\n",
    "$p(x) = \\frac{N}{\\sqrt{2\\pi\\sigma^2}}e{\\frac{-(x-\\mu)^2}{2\\sigma^2}}$.\n",
    "\n",
    "Vergleichen Sie es für verschiedene Anzahl Wiederholungen."
   ]
  },
  {
   "cell_type": "code",
   "execution_count": 73,
   "id": "79984f95",
   "metadata": {},
   "outputs": [
    {
     "data": {
      "text/plain": [
       "[<matplotlib.lines.Line2D at 0x7f43683ed6d0>]"
      ]
     },
     "execution_count": 73,
     "metadata": {},
     "output_type": "execute_result"
    },
    {
     "data": {
      "image/png": "[encoded data removed]",
      "text/plain": [
       "<Figure size 640x480 with 1 Axes>"
      ]
     },
     "metadata": {},
     "output_type": "display_data"
    }
   ],
   "source": [
    "# Ihr Code\n",
    "fig = plt.figure()\n",
    "ax = fig.add_subplot(1, 1, 1)\n",
    "ax.hist(sums, bins=10, density=True)\n",
    "x = np.linspace(np.mean(sums)-2*np.std(sums), np.mean(sums)+2*np.std(sums), 500)\n",
    "y = np.exp(-np.square(x-np.mean(sums))/2*np.var(sums))/(np.sqrt(2*np.pi*np.var(sums)))\n",
    "ax.plot(x, y)"
   ]
  },
  {
   "cell_type": "code",
   "execution_count": null,
   "id": "b3d4acde",
   "metadata": {},
   "outputs": [],
   "source": []
  }
 ],
 "metadata": {
  "kernelspec": {
   "display_name": "Python 3 (ipykernel)",
   "language": "python",
   "name": "python3"
  },
  "language_info": {
   "codemirror_mode": {
    "name": "ipython",
    "version": 3
   },
   "file_extension": ".py",
   "mimetype": "text/x-python",
   "name": "python",
   "nbconvert_exporter": "python",
   "pygments_lexer": "ipython3",
   "version": "3.13.2"
  },
  "toc": {
   "base_numbering": 1,
   "nav_menu": {},
   "number_sections": true,
   "sideBar": true,
   "skip_h1_title": false,
   "title_cell": "Table of Contents",
   "title_sidebar": "Contents",
   "toc_cell": false,
   "toc_position": {},
   "toc_section_display": true,
   "toc_window_display": true
  },
  "varInspector": {
   "cols": {
    "lenName": 16,
    "lenType": 16,
    "lenVar": 40
   },
   "kernels_config": {
    "python": {
     "delete_cmd_postfix": "",
     "delete_cmd_prefix": "del ",
     "library": "var_list.py",
     "varRefreshCmd": "print(var_dic_list())"
    },
    "r": {
     "delete_cmd_postfix": ") ",
     "delete_cmd_prefix": "rm(",
     "library": "var_list.r",
     "varRefreshCmd": "cat(var_dic_list()) "
    }
   },
   "types_to_exclude": [
    "module",
    "function",
    "builtin_function_or_method",
    "instance",
    "_Feature"
   ],
   "window_display": false
  }
 },
 "nbformat": 4,
 "nbformat_minor": 5
}
